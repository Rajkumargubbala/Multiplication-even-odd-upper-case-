{
 "cells": [
  {
   "cell_type": "code",
   "execution_count": 4,
   "id": "2c7dbfff",
   "metadata": {},
   "outputs": [],
   "source": [
    "# multiplication table\n",
    "\n",
    "def mul(x,y):\n",
    "    for n in range(0,y+1):\n",
    "        z=x*n\n",
    "        print(\"{}*{}={}\".format(x,n,z))"
   ]
  },
  {
   "cell_type": "code",
   "execution_count": 5,
   "id": "d0dd1283",
   "metadata": {},
   "outputs": [
    {
     "name": "stdout",
     "output_type": "stream",
     "text": [
      "4*0=0\n",
      "4*1=4\n",
      "4*2=8\n",
      "4*3=12\n",
      "4*4=16\n",
      "4*5=20\n",
      "4*6=24\n",
      "4*7=28\n",
      "4*8=32\n",
      "4*9=36\n",
      "4*10=40\n"
     ]
    }
   ],
   "source": [
    "mul(4,10)"
   ]
  },
  {
   "cell_type": "code",
   "execution_count": 6,
   "id": "6852a3bd",
   "metadata": {},
   "outputs": [],
   "source": [
    "# print odd index elements into upper case\n",
    "\n",
    "def sun(x):\n",
    "    y=\"\"\n",
    "    for n in range(len(x)):\n",
    "        if n%2!=0:\n",
    "            y+=(x[n].upper())\n",
    "        else:\n",
    "            y+=(x[n].lower())\n",
    "    return y"
   ]
  },
  {
   "cell_type": "code",
   "execution_count": 7,
   "id": "6a5f1a09",
   "metadata": {},
   "outputs": [
    {
     "data": {
      "text/plain": [
       "'aBcDeFgHiJkLmAoPqRsTuVwXyZ'"
      ]
     },
     "execution_count": 7,
     "metadata": {},
     "output_type": "execute_result"
    }
   ],
   "source": [
    "sun(\"abcdefghijklmaopqrstuvwxyz\")"
   ]
  },
  {
   "cell_type": "code",
   "execution_count": 8,
   "id": "a1901310",
   "metadata": {},
   "outputs": [],
   "source": [
    "# print even index elements into upper case\n",
    "\n",
    "def sun(x):\n",
    "    y=\"\"\n",
    "    for n in range(len(x)):\n",
    "        if n%2==0:\n",
    "            y+=(x[n].upper())\n",
    "        else:\n",
    "            y+=(x[n].lower())\n",
    "    return y"
   ]
  },
  {
   "cell_type": "code",
   "execution_count": 9,
   "id": "2fb7b240",
   "metadata": {},
   "outputs": [
    {
     "data": {
      "text/plain": [
       "'AbCdEfGhIjKlMaOpQrStUvWxYz'"
      ]
     },
     "execution_count": 9,
     "metadata": {},
     "output_type": "execute_result"
    }
   ],
   "source": [
    "sun(\"abcdefghijklmaopqrstuvwxyz\")"
   ]
  },
  {
   "cell_type": "code",
   "execution_count": null,
   "id": "58302a9f",
   "metadata": {},
   "outputs": [],
   "source": []
  }
 ],
 "metadata": {
  "kernelspec": {
   "display_name": "Python 3 (ipykernel)",
   "language": "python",
   "name": "python3"
  },
  "language_info": {
   "codemirror_mode": {
    "name": "ipython",
    "version": 3
   },
   "file_extension": ".py",
   "mimetype": "text/x-python",
   "name": "python",
   "nbconvert_exporter": "python",
   "pygments_lexer": "ipython3",
   "version": "3.9.7"
  }
 },
 "nbformat": 4,
 "nbformat_minor": 5
}
